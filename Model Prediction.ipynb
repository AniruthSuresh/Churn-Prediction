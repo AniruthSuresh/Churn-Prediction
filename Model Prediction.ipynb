{
 "cells": [
  {
   "cell_type": "code",
   "execution_count": 31,
   "id": "75aa6efe-5198-4cb6-a6f2-36b9d95a1beb",
   "metadata": {},
   "outputs": [],
   "source": [
    "import pickle\n",
    "\n",
    "# Load the training data \n",
    "pickle_in = open(\"x_train.pickle\",\"rb\")\n",
    "x_train = pickle.load(pickle_in)\n",
    "\n",
    "# print(x_train)\n",
    "pickle_in = open(\"y_train.pickle\",\"rb\")\n",
    "y_train = pickle.load(pickle_in)\n",
    "\n",
    "# Load the test data \n",
    "\n",
    "pickle_in = open(\"x_test.pickle\",\"rb\")\n",
    "x_test = pickle.load(pickle_in)\n",
    "\n",
    "\n",
    "pickle_in = open(\"y_test.pickle\",\"rb\")\n",
    "y_test = pickle.load(pickle_in)\n",
    "\n",
    "\n"
   ]
  },
  {
   "cell_type": "code",
   "execution_count": 32,
   "id": "7f378dd2-373a-4189-b1fb-976bf6e4b6f4",
   "metadata": {},
   "outputs": [
    {
     "name": "stdout",
     "output_type": "stream",
     "text": [
      "       gender  SeniorCitizen  Partner  Dependents    tenure  PhoneService  \\\n",
      "8861        1              0        0           0  0.035734             1   \n",
      "630         1              0        1           0  0.633803             1   \n",
      "10210       0              0        1           0  0.980264             1   \n",
      "415         1              0        1           1  0.211268             1   \n",
      "7034        0              0        0           1  0.009429             1   \n",
      "...       ...            ...      ...         ...       ...           ...   \n",
      "1337        1              0        0           0  0.098592             1   \n",
      "4979        0              0        1           0  0.985915             1   \n",
      "10292       1              1        0           0  0.721290             1   \n",
      "6324        1              1        0           0  0.830986             1   \n",
      "9673        0              0        0           0  0.064368             1   \n",
      "\n",
      "       MultipleLines  OnlineSecurity  OnlineBackup  DeviceProtection  ...  \\\n",
      "8861               1               0             0                 1  ...   \n",
      "630                1               1             0                 0  ...   \n",
      "10210              1               1             1                 1  ...   \n",
      "415                0               0             1                 0  ...   \n",
      "7034               0               1             0                 0  ...   \n",
      "...              ...             ...           ...               ...  ...   \n",
      "1337               0               0             0                 0  ...   \n",
      "4979               1               0             0                 0  ...   \n",
      "10292              1               0             0                 0  ...   \n",
      "6324               1               0             0                 1  ...   \n",
      "9673               0               0             0                 1  ...   \n",
      "\n",
      "       Contract_Month-to-month  Contract_One year  Contract_Two year  \\\n",
      "8861                         1                  0                  0   \n",
      "630                          1                  0                  0   \n",
      "10210                        0                  1                  0   \n",
      "415                          1                  0                  0   \n",
      "7034                         1                  0                  0   \n",
      "...                        ...                ...                ...   \n",
      "1337                         0                  0                  1   \n",
      "4979                         0                  0                  1   \n",
      "10292                        1                  0                  0   \n",
      "6324                         0                  1                  0   \n",
      "9673                         1                  0                  0   \n",
      "\n",
      "       InternetService_DSL  InternetService_Fiber optic  InternetService_No  \\\n",
      "8861                     0                            1                   0   \n",
      "630                      1                            0                   0   \n",
      "10210                    0                            1                   0   \n",
      "415                      0                            1                   0   \n",
      "7034                     1                            0                   0   \n",
      "...                    ...                          ...                 ...   \n",
      "1337                     0                            0                   1   \n",
      "4979                     0                            0                   1   \n",
      "10292                    0                            1                   0   \n",
      "6324                     0                            1                   0   \n",
      "9673                     0                            1                   0   \n",
      "\n",
      "       PaymentMethod_Bank transfer (automatic)  \\\n",
      "8861                                         0   \n",
      "630                                          1   \n",
      "10210                                        0   \n",
      "415                                          1   \n",
      "7034                                         0   \n",
      "...                                        ...   \n",
      "1337                                         0   \n",
      "4979                                         1   \n",
      "10292                                        0   \n",
      "6324                                         0   \n",
      "9673                                         0   \n",
      "\n",
      "       PaymentMethod_Credit card (automatic)  PaymentMethod_Electronic check  \\\n",
      "8861                                       0                               0   \n",
      "630                                        0                               0   \n",
      "10210                                      0                               0   \n",
      "415                                        0                               0   \n",
      "7034                                       0                               0   \n",
      "...                                      ...                             ...   \n",
      "1337                                       0                               0   \n",
      "4979                                       0                               0   \n",
      "10292                                      0                               1   \n",
      "6324                                       0                               1   \n",
      "9673                                       0                               0   \n",
      "\n",
      "       PaymentMethod_Mailed check  \n",
      "8861                            1  \n",
      "630                             0  \n",
      "10210                           0  \n",
      "415                             0  \n",
      "7034                            0  \n",
      "...                           ...  \n",
      "1337                            1  \n",
      "4979                            0  \n",
      "10292                           0  \n",
      "6324                            0  \n",
      "9673                            1  \n",
      "\n",
      "[8260 rows x 26 columns]\n",
      "(8260, 26)\n",
      "8861     1\n",
      "630      0\n",
      "10210    1\n",
      "415      0\n",
      "7034     1\n",
      "        ..\n",
      "1337     0\n",
      "4979     0\n",
      "10292    1\n",
      "6324     1\n",
      "9673     1\n",
      "Name: Churn, Length: 8260, dtype: int64\n",
      "(8260,)\n",
      "      gender  SeniorCitizen  Partner  Dependents    tenure  PhoneService  \\\n",
      "3767       1              0        0           0  0.000000             0   \n",
      "5376       0              0        0           0  0.732394             1   \n",
      "2211       1              1        0           0  0.887324             1   \n",
      "582        1              0        1           1  0.000000             1   \n",
      "6697       1              1        1           0  1.000000             1   \n",
      "...      ...            ...      ...         ...       ...           ...   \n",
      "8177       0              1        0           0  0.058593             1   \n",
      "8535       0              0        0           0  0.123877             1   \n",
      "6383       1              0        1           1  0.830986             0   \n",
      "5253       1              0        0           0  0.816901             1   \n",
      "2126       0              0        1           1  0.577465             0   \n",
      "\n",
      "      MultipleLines  OnlineSecurity  OnlineBackup  DeviceProtection  ...  \\\n",
      "3767              0               0             0                 0  ...   \n",
      "5376              1               0             0                 0  ...   \n",
      "2211              1               1             0                 1  ...   \n",
      "582               0               0             0                 0  ...   \n",
      "6697              1               0             0                 0  ...   \n",
      "...             ...             ...           ...               ...  ...   \n",
      "8177              0               0             0                 0  ...   \n",
      "8535              1               0             0                 0  ...   \n",
      "6383              0               0             1                 0  ...   \n",
      "5253              1               1             0                 0  ...   \n",
      "2126              0               1             0                 1  ...   \n",
      "\n",
      "      Contract_Month-to-month  Contract_One year  Contract_Two year  \\\n",
      "3767                        1                  0                  0   \n",
      "5376                        1                  0                  0   \n",
      "2211                        1                  0                  0   \n",
      "582                         1                  0                  0   \n",
      "6697                        0                  0                  1   \n",
      "...                       ...                ...                ...   \n",
      "8177                        1                  0                  0   \n",
      "8535                        1                  0                  0   \n",
      "6383                        1                  0                  0   \n",
      "5253                        0                  1                  0   \n",
      "2126                        0                  0                  1   \n",
      "\n",
      "      InternetService_DSL  InternetService_Fiber optic  InternetService_No  \\\n",
      "3767                    1                            0                   0   \n",
      "5376                    0                            1                   0   \n",
      "2211                    0                            1                   0   \n",
      "582                     0                            0                   1   \n",
      "6697                    0                            0                   1   \n",
      "...                   ...                          ...                 ...   \n",
      "8177                    0                            1                   0   \n",
      "8535                    0                            1                   0   \n",
      "6383                    1                            0                   0   \n",
      "5253                    1                            0                   0   \n",
      "2126                    1                            0                   0   \n",
      "\n",
      "      PaymentMethod_Bank transfer (automatic)  \\\n",
      "3767                                        0   \n",
      "5376                                        1   \n",
      "2211                                        1   \n",
      "582                                         0   \n",
      "6697                                        0   \n",
      "...                                       ...   \n",
      "8177                                        0   \n",
      "8535                                        1   \n",
      "6383                                        0   \n",
      "5253                                        1   \n",
      "2126                                        0   \n",
      "\n",
      "      PaymentMethod_Credit card (automatic)  PaymentMethod_Electronic check  \\\n",
      "3767                                      0                               0   \n",
      "5376                                      0                               0   \n",
      "2211                                      0                               0   \n",
      "582                                       0                               0   \n",
      "6697                                      1                               0   \n",
      "...                                     ...                             ...   \n",
      "8177                                      0                               1   \n",
      "8535                                      0                               0   \n",
      "6383                                      0                               1   \n",
      "5253                                      0                               0   \n",
      "2126                                      1                               0   \n",
      "\n",
      "      PaymentMethod_Mailed check  \n",
      "3767                           1  \n",
      "5376                           0  \n",
      "2211                           0  \n",
      "582                            1  \n",
      "6697                           0  \n",
      "...                          ...  \n",
      "8177                           0  \n",
      "8535                           0  \n",
      "6383                           0  \n",
      "5253                           0  \n",
      "2126                           0  \n",
      "\n",
      "[2066 rows x 26 columns]\n",
      "(2066, 26)\n",
      "3767    1\n",
      "5376    1\n",
      "2211    0\n",
      "582     0\n",
      "6697    0\n",
      "       ..\n",
      "8177    1\n",
      "8535    1\n",
      "6383    0\n",
      "5253    0\n",
      "2126    0\n",
      "Name: Churn, Length: 2066, dtype: int64\n",
      "(2066,)\n",
      "(26,)\n"
     ]
    }
   ],
   "source": [
    "print(x_train)\n",
    "print(x_train.shape)\n",
    "\n",
    "print(y_train)\n",
    "print(y_train.shape)\n",
    "\n",
    "print(x_test)\n",
    "print(x_test.shape)\n",
    "\n",
    "print(y_test)\n",
    "print(y_test.shape)\n",
    "\n",
    "print(x_train.shape[1:])\n"
   ]
  },
  {
   "cell_type": "code",
   "execution_count": 33,
   "id": "dca5337d-d769-4042-909b-4c9fc76c8d92",
   "metadata": {},
   "outputs": [
    {
     "name": "stdout",
     "output_type": "stream",
     "text": [
      "4122\n",
      "4138\n"
     ]
    }
   ],
   "source": [
    "# no of churns in train \n",
    "print(sum(y_train==0))\n",
    "print(sum(y_train==1))\n",
    "\n",
    "# clearly this is an imbalanced dataset as y_train = 0 is much more than y_train = 1 -> IMBALANCED DATASET "
   ]
  },
  {
   "cell_type": "code",
   "execution_count": 34,
   "id": "b5d08eda-7338-4696-b00a-16fe2278617c",
   "metadata": {},
   "outputs": [
    {
     "name": "stdout",
     "output_type": "stream",
     "text": [
      "Epoch 1/14\n"
     ]
    },
    {
     "name": "stderr",
     "output_type": "stream",
     "text": [
      "/home/aniruth/anaconda3/lib/python3.11/site-packages/keras/src/layers/core/dense.py:85: UserWarning: Do not pass an `input_shape`/`input_dim` argument to a layer. When using Sequential models, prefer using an `Input(shape)` object as the first layer in the model instead.\n",
      "  super().__init__(activity_regularizer=activity_regularizer, **kwargs)\n"
     ]
    },
    {
     "name": "stdout",
     "output_type": "stream",
     "text": [
      "\u001b[1m207/207\u001b[0m \u001b[32m━━━━━━━━━━━━━━━━━━━━\u001b[0m\u001b[37m\u001b[0m \u001b[1m1s\u001b[0m 2ms/step - accuracy: 0.7048 - loss: 0.5808 - val_accuracy: 0.7875 - val_loss: 0.4574\n",
      "Epoch 2/14\n",
      "\u001b[1m207/207\u001b[0m \u001b[32m━━━━━━━━━━━━━━━━━━━━\u001b[0m\u001b[37m\u001b[0m \u001b[1m0s\u001b[0m 1ms/step - accuracy: 0.7787 - loss: 0.4663 - val_accuracy: 0.7900 - val_loss: 0.4448\n",
      "Epoch 3/14\n",
      "\u001b[1m207/207\u001b[0m \u001b[32m━━━━━━━━━━━━━━━━━━━━\u001b[0m\u001b[37m\u001b[0m \u001b[1m0s\u001b[0m 1ms/step - accuracy: 0.7844 - loss: 0.4505 - val_accuracy: 0.7718 - val_loss: 0.4569\n",
      "Epoch 4/14\n",
      "\u001b[1m207/207\u001b[0m \u001b[32m━━━━━━━━━━━━━━━━━━━━\u001b[0m\u001b[37m\u001b[0m \u001b[1m0s\u001b[0m 1ms/step - accuracy: 0.7781 - loss: 0.4542 - val_accuracy: 0.7906 - val_loss: 0.4369\n",
      "Epoch 5/14\n",
      "\u001b[1m207/207\u001b[0m \u001b[32m━━━━━━━━━━━━━━━━━━━━\u001b[0m\u001b[37m\u001b[0m \u001b[1m0s\u001b[0m 1ms/step - accuracy: 0.7929 - loss: 0.4442 - val_accuracy: 0.7869 - val_loss: 0.4330\n",
      "Epoch 6/14\n",
      "\u001b[1m207/207\u001b[0m \u001b[32m━━━━━━━━━━━━━━━━━━━━\u001b[0m\u001b[37m\u001b[0m \u001b[1m0s\u001b[0m 1ms/step - accuracy: 0.8007 - loss: 0.4339 - val_accuracy: 0.7960 - val_loss: 0.4380\n",
      "Epoch 7/14\n",
      "\u001b[1m207/207\u001b[0m \u001b[32m━━━━━━━━━━━━━━━━━━━━\u001b[0m\u001b[37m\u001b[0m \u001b[1m0s\u001b[0m 1ms/step - accuracy: 0.8011 - loss: 0.4356 - val_accuracy: 0.7966 - val_loss: 0.4289\n",
      "Epoch 8/14\n",
      "\u001b[1m207/207\u001b[0m \u001b[32m━━━━━━━━━━━━━━━━━━━━\u001b[0m\u001b[37m\u001b[0m \u001b[1m0s\u001b[0m 1ms/step - accuracy: 0.8112 - loss: 0.4132 - val_accuracy: 0.7954 - val_loss: 0.4320\n",
      "Epoch 9/14\n",
      "\u001b[1m207/207\u001b[0m \u001b[32m━━━━━━━━━━━━━━━━━━━━\u001b[0m\u001b[37m\u001b[0m \u001b[1m0s\u001b[0m 1ms/step - accuracy: 0.8018 - loss: 0.4148 - val_accuracy: 0.7984 - val_loss: 0.4265\n",
      "Epoch 10/14\n",
      "\u001b[1m207/207\u001b[0m \u001b[32m━━━━━━━━━━━━━━━━━━━━\u001b[0m\u001b[37m\u001b[0m \u001b[1m0s\u001b[0m 1ms/step - accuracy: 0.8173 - loss: 0.4004 - val_accuracy: 0.7966 - val_loss: 0.4265\n",
      "Epoch 11/14\n",
      "\u001b[1m207/207\u001b[0m \u001b[32m━━━━━━━━━━━━━━━━━━━━\u001b[0m\u001b[37m\u001b[0m \u001b[1m0s\u001b[0m 1ms/step - accuracy: 0.8157 - loss: 0.3945 - val_accuracy: 0.7918 - val_loss: 0.4420\n",
      "Epoch 12/14\n",
      "\u001b[1m207/207\u001b[0m \u001b[32m━━━━━━━━━━━━━━━━━━━━\u001b[0m\u001b[37m\u001b[0m \u001b[1m0s\u001b[0m 1ms/step - accuracy: 0.8157 - loss: 0.4031 - val_accuracy: 0.7984 - val_loss: 0.4238\n",
      "Epoch 13/14\n",
      "\u001b[1m207/207\u001b[0m \u001b[32m━━━━━━━━━━━━━━━━━━━━\u001b[0m\u001b[37m\u001b[0m \u001b[1m0s\u001b[0m 1ms/step - accuracy: 0.8238 - loss: 0.3881 - val_accuracy: 0.7893 - val_loss: 0.4332\n",
      "Epoch 14/14\n",
      "\u001b[1m207/207\u001b[0m \u001b[32m━━━━━━━━━━━━━━━━━━━━\u001b[0m\u001b[37m\u001b[0m \u001b[1m0s\u001b[0m 1ms/step - accuracy: 0.8246 - loss: 0.3778 - val_accuracy: 0.8045 - val_loss: 0.4223\n"
     ]
    },
    {
     "data": {
      "text/plain": [
       "<keras.src.callbacks.history.History at 0x7f2d3e068610>"
      ]
     },
     "execution_count": 34,
     "metadata": {},
     "output_type": "execute_result"
    }
   ],
   "source": [
    "# The datasets are normalised and resized to the crt size\n",
    "\n",
    "# Implement the model now !\n",
    "\n",
    "# We are using CNN over ANN to reduce computations and to identify features quickly \n",
    "\n",
    "\n",
    "from tensorflow import keras\n",
    "\n",
    "import tensorflow as tf\n",
    "from tensorflow.keras.models import Sequential\n",
    "from tensorflow.keras.layers import Dense , Flatten \n",
    "\n",
    "# To analyse the data , we use tensorboard \n",
    "from tensorflow.keras.callbacks import TensorBoard\n",
    "\n",
    "# We are going to do convolution and max pooling \n",
    "from tensorflow.keras.layers import Conv2D, MaxPooling2D\n",
    "import time \n",
    "\n",
    "# No of layers , node per layer , conv layer \n",
    "\n",
    "# import numpy as np\n",
    "\n",
    "# x_train_array = np.array(x_train)\n",
    "# x_train = x_train.reshape(-1,x_train.shape[0], x_train.shape[1],1)  # Replace height and width with the actual dimensions of your images\n",
    "\n",
    "model = keras.Sequential([\n",
    "    Dense(units = 40 , input_shape = (26,) ,activation = \"relu\"),\n",
    "    Dense(units = 40,activation = \"relu\"),\n",
    "    Dense(units = 20,activation = \"relu\"),\n",
    "\n",
    "    Dense(units = 1,activation = \"sigmoid\"), #  binary classification - yes/no\n",
    "\n",
    "])\n",
    "\n",
    "model.compile(\n",
    "    loss=tf.keras.losses.BinaryCrossentropy(),    \n",
    "    optimizer=tf.keras.optimizers.Adam(0.001),metrics =[\"accuracy\"], # Metric is what we want to measure \n",
    ")\n",
    "\n",
    "model.fit(x_train,y_train,validation_split = 0.2,epochs = 14)"
   ]
  },
  {
   "cell_type": "code",
   "execution_count": 35,
   "id": "c61264a1-5915-44d9-ab69-7cb0b37595ca",
   "metadata": {},
   "outputs": [
    {
     "name": "stdout",
     "output_type": "stream",
     "text": [
      "\u001b[1m65/65\u001b[0m \u001b[32m━━━━━━━━━━━━━━━━━━━━\u001b[0m\u001b[37m\u001b[0m \u001b[1m0s\u001b[0m 872us/step - accuracy: 0.7959 - loss: 0.4403\n",
      "Accuracy is 80.63891530036926\n",
      "Loss is 0.4294455349445343\n"
     ]
    }
   ],
   "source": [
    "# evaluate the model\n",
    "\n",
    "test_loss , test_acc = model.evaluate(x_test,y_test)\n",
    "\n",
    "print(f\"Accuracy is {test_acc*100}\")\n",
    "print(f\"Loss is {test_loss}\")"
   ]
  },
  {
   "cell_type": "code",
   "execution_count": 36,
   "id": "1c1dea50-d3b5-48ec-89eb-bd82be92c818",
   "metadata": {},
   "outputs": [
    {
     "name": "stdout",
     "output_type": "stream",
     "text": [
      "\u001b[1m65/65\u001b[0m \u001b[32m━━━━━━━━━━━━━━━━━━━━\u001b[0m\u001b[37m\u001b[0m \u001b[1m0s\u001b[0m 1ms/step  \n",
      "[[0.5676313 ]\n",
      " [0.3375276 ]\n",
      " [0.05778312]\n",
      " ...\n",
      " [0.08780605]\n",
      " [0.04135604]\n",
      " [0.02604289]]\n",
      "(2066, 1)\n",
      "2066\n"
     ]
    }
   ],
   "source": [
    "# predict the test \n",
    "\n",
    "y_pred = model.predict(x_test)\n",
    "print(y_pred)\n",
    "\n",
    "print(y_pred.shape)\n",
    "print(len(y_pred))"
   ]
  },
  {
   "cell_type": "code",
   "execution_count": 37,
   "id": "2481c199-ccc1-4418-bf4b-b2c885600233",
   "metadata": {},
   "outputs": [
    {
     "name": "stdout",
     "output_type": "stream",
     "text": [
      "<class 'numpy.ndarray'>\n",
      "[[1]\n",
      " [0]\n",
      " [0]\n",
      " ...\n",
      " [0]\n",
      " [0]\n",
      " [0]]\n",
      "(2066, 1)\n",
      "2\n",
      "(2066,)\n",
      "1\n",
      "(2066,)\n",
      "1\n"
     ]
    }
   ],
   "source": [
    "# Sigmoid - cut -off = 0.5\n",
    "\n",
    "for i in range(len(y_pred)):\n",
    "    if(y_pred[i]>=0.5):\n",
    "        y_pred[i] = 1\n",
    "    else:\n",
    "        y_pred[i] = 0\n",
    "        \n",
    "print(type(y_pred))\n",
    "# convert the floats to int\n",
    "y_pred = y_pred.astype(int)\n",
    "\n",
    "\n",
    "print(y_pred)\n",
    "print(y_pred.shape)\n",
    "print(y_pred.ndim)\n",
    "\n",
    "# flatten it to make it 1D\n",
    "y_pred = y_pred.flatten()\n",
    "print(y_pred.shape)\n",
    "print(y_pred.ndim)\n",
    "\n",
    "\n",
    "# print(y_test)\n",
    "print(y_test.shape)\n",
    "\n",
    "print(y_test.ndim)\n",
    "\n",
    "# print(y_test)"
   ]
  },
  {
   "cell_type": "code",
   "execution_count": 38,
   "id": "280a2f41-f1dc-4627-802b-1e482e49b6f6",
   "metadata": {},
   "outputs": [
    {
     "name": "stdout",
     "output_type": "stream",
     "text": [
      "Accuracy: 80.63891577928364\n"
     ]
    }
   ],
   "source": [
    "from sklearn.metrics import accuracy_score\n",
    "\n",
    "accuracy = accuracy_score(y_test, y_pred)\n",
    "print(\"Accuracy:\", accuracy*100)"
   ]
  },
  {
   "cell_type": "code",
   "execution_count": 39,
   "id": "daafb765-8245-4a39-82e4-58b6a8eec6b8",
   "metadata": {},
   "outputs": [
    {
     "name": "stdout",
     "output_type": "stream",
     "text": [
      "              precision    recall  f1-score   support\n",
      "\n",
      "           0       0.82      0.79      0.80      1041\n",
      "           1       0.79      0.83      0.81      1025\n",
      "\n",
      "    accuracy                           0.81      2066\n",
      "   macro avg       0.81      0.81      0.81      2066\n",
      "weighted avg       0.81      0.81      0.81      2066\n",
      "\n"
     ]
    }
   ],
   "source": [
    "# Classification report\n",
    "\n",
    "from sklearn.metrics import classification_report \n",
    "\n",
    "print(classification_report(y_test,y_pred))"
   ]
  },
  {
   "cell_type": "code",
   "execution_count": 40,
   "id": "c844e075-d583-4c0b-9d27-1d5b0e95bb7b",
   "metadata": {},
   "outputs": [
    {
     "data": {
      "text/plain": [
       "Text(95.72222222222221, 0.5, 'Truth')"
      ]
     },
     "execution_count": 40,
     "metadata": {},
     "output_type": "execute_result"
    },
    {
     "data": {
      "image/png": "[encoded data removed]",
      "text/plain": [
       "<Figure size 1000x700 with 2 Axes>"
      ]
     },
     "metadata": {},
     "output_type": "display_data"
    }
   ],
   "source": [
    "from sklearn.metrics import confusion_matrix\n",
    "import seaborn as sn\n",
    "from matplotlib import pyplot as plt\n",
    "\n",
    "cm = tf.math.confusion_matrix(labels = y_test , predictions = y_pred)\n",
    "\n",
    "plt.figure(figsize = (10,7))\n",
    " \n",
    "sn.heatmap(cm , annot = True , fmt = \"d\") \n",
    "\n",
    "plt.xlabel(\"Predictions\")\n",
    "plt.ylabel(\"Truth\")\n",
    "\n",
    "# along diag = crt predictions !!\n"
   ]
  },
  {
   "cell_type": "code",
   "execution_count": null,
   "id": "9d67b4f5-9134-43be-9526-046bea41f6c1",
   "metadata": {},
   "outputs": [],
   "source": []
  }
 ],
 "metadata": {
  "kernelspec": {
   "display_name": "Python 3 (ipykernel)",
   "language": "python",
   "name": "python3"
  },
  "language_info": {
   "codemirror_mode": {
    "name": "ipython",
    "version": 3
   },
   "file_extension": ".py",
   "mimetype": "text/x-python",
   "name": "python",
   "nbconvert_exporter": "python",
   "pygments_lexer": "ipython3",
   "version": "3.11.7"
  }
 },
 "nbformat": 4,
 "nbformat_minor": 5
}
